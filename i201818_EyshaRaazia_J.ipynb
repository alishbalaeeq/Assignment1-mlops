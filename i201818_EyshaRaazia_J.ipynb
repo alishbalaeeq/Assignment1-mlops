{
 "cells": [
  {
   "cell_type": "code",
   "execution_count": 1,
   "id": "368fdae5",
   "metadata": {
    "id": "368fdae5"
   },
   "outputs": [],
   "source": [
    "import torch\n",
    "import torchvision\n",
    "import torchvision.transforms as transforms\n",
    "import numpy as np\n",
    "from torchvision import datasets\n",
    "import matplotlib.pyplot as plt\n",
    "from torch.autograd import Variable\n",
    "from torch.utils.data import DataLoader, random_split\n",
    "import torch.nn as nn\n",
    "import torch.optim as optim"
   ]
  },
  {
   "cell_type": "markdown",
   "id": "dCYDrzvD1XJl",
   "metadata": {
    "id": "dCYDrzvD1XJl"
   },
   "source": [
    "ChatGPT Generated Code (Given)"
   ]
  },
  {
   "cell_type": "code",
   "execution_count": 8,
   "id": "57123203",
   "metadata": {
    "id": "57123203"
   },
   "outputs": [],
   "source": [
    "batch_size = 64\n",
    "num_epochs = 5\n",
    "learning_rate = 0.01\n",
    "transform = transforms.Compose([transforms.ToTensor(), transforms.Normalize((0.5,), (0.5,))])\n",
    "data=datasets.FashionMNIST(root='./data', train=True, transform=transform, download=True) #FashionMNIST Dataset\n",
    "\n",
    "#Splitting Data\n",
    "train_size = int(0.8 * len(data))\n",
    "val_size = len(data) - train_size\n",
    "train_dataset, val_dataset = random_split(data, [train_size, val_size])\n",
    "test_dataset = datasets.FashionMNIST(root='./data', train=False, transform=transform, download=True)\n",
    "\n",
    "#Dataloaders\n",
    "train_loader=DataLoader(train_dataset, batch_size=batch_size, shuffle=True)\n",
    "val_loader=DataLoader(val_dataset, batch_size=batch_size, shuffle=False)\n",
    "test_loader=DataLoader(test_dataset, batch_size=batch_size, shuffle=False)\n",
    "\n",
    "labels=(\"T-shirt/top\",\"Trouser\",\"Pullover\",\"Dress\",\"Coat\",\"Sandal\",\"Shirt\",\"Sneaker\",\"Bag\",\"Ankle boot\")"
   ]
  },
  {
   "cell_type": "code",
   "execution_count": 9,
   "id": "cb36c39a",
   "metadata": {
    "id": "cb36c39a"
   },
   "outputs": [],
   "source": [
    "class FashionMNISTModel(nn.Module):\n",
    "    def __init__(self):\n",
    "        super(FashionMNISTModel, self).__init__()\n",
    "        # Convolutional layers\n",
    "        self.conv1 = nn.Conv2d(1, 16, 3)  # Input channels: 1 (grayscale), output channels: 16, kernel size: 3\n",
    "        self.conv2 = nn.Conv2d(16, 32, 3)  # Input channels: 16, output channels: 32, kernel size: 3\n",
    "        self.conv3 = nn.Conv2d(32, 64, 3)  # Input channels: 32, output channels: 64, kernel size: 3\n",
    "\n",
    "        # Pooling layer\n",
    "        self.pool = nn.MaxPool2d(2, 2)  # Kernel size: 2, stride: 2\n",
    "\n",
    "        # Fully connected layers\n",
    "        # Adjust input features based on the spatial dimensions after pooling\n",
    "        self.fc1 = nn.Linear(64, 32)  # Input features: 64 * 2 * 2, output features: 256\n",
    "        self.fc2 = nn.Linear(32, 10)  # Input features: 256, output features: 10 (number of Fashion MNIST classes)\n",
    "\n",
    "        # Activation function\n",
    "        self.relu = nn.ReLU()\n",
    "\n",
    "    def forward(self, x):\n",
    "        # Apply convolutional layers and pooling layers\n",
    "        x = self.pool(self.relu(self.conv1(x)))\n",
    "        x = self.pool(self.relu(self.conv2(x)))\n",
    "        x = self.pool(self.relu(self.conv3(x)))\n",
    "\n",
    "        # Flatten the output\n",
    "        x = x.view(x.size(0), -1)  # Reshape to (batch_size, -1) where -1 infers the correct size\n",
    "\n",
    "        # Apply fully connected layers\n",
    "        x = self.relu(self.fc1(x))\n",
    "        x = self.fc2(x)\n",
    "        return x\n"
   ]
  },
  {
   "cell_type": "code",
   "execution_count": 10,
   "id": "2b1c2caf",
   "metadata": {
    "colab": {
     "base_uri": "https://localhost:8080/"
    },
    "id": "2b1c2caf",
    "outputId": "7a1a52f5-6560-469d-9734-391d7b382298"
   },
   "outputs": [
    {
     "name": "stdout",
     "output_type": "stream",
     "text": [
      "[1,   200] loss: 0.863 acc: 0.671\n",
      "[1,   400] loss: 0.566 acc: 0.797\n",
      "[1,   600] loss: 0.520 acc: 0.813\n",
      "Epoch [1] Validation loss: 0.463 acc: 0.832\n",
      "[2,   200] loss: 0.448 acc: 0.838\n",
      "[2,   400] loss: 0.447 acc: 0.835\n",
      "[2,   600] loss: 0.436 acc: 0.845\n",
      "Epoch [2] Validation loss: 0.471 acc: 0.833\n",
      "[3,   200] loss: 0.415 acc: 0.850\n",
      "[3,   400] loss: 0.410 acc: 0.849\n",
      "[3,   600] loss: 0.403 acc: 0.859\n",
      "Epoch [3] Validation loss: 0.486 acc: 0.824\n",
      "[4,   200] loss: 0.391 acc: 0.860\n",
      "[4,   400] loss: 0.384 acc: 0.864\n",
      "[4,   600] loss: 0.390 acc: 0.860\n",
      "Epoch [4] Validation loss: 0.404 acc: 0.855\n",
      "[5,   200] loss: 0.374 acc: 0.865\n",
      "[5,   400] loss: 0.384 acc: 0.860\n",
      "[5,   600] loss: 0.389 acc: 0.861\n",
      "Epoch [5] Validation loss: 0.393 acc: 0.858\n",
      "Finished Training\n"
     ]
    }
   ],
   "source": [
    "# Create an instance of the model\n",
    "model=FashionMNISTModel()\n",
    "\n",
    "# Define the loss function and the optimizer\n",
    "criterion = nn.CrossEntropyLoss()\n",
    "optimizer = torch.optim.Adam(model.parameters(), lr=learning_rate)\n",
    "\n",
    "# Train the model\n",
    "for epoch in range(num_epochs):\n",
    "    running_loss = 0.0\n",
    "    running_acc = 0.0\n",
    "    val_loss = 0.0\n",
    "    val_acc = 0.0\n",
    "\n",
    "    # Loop over the training batches\n",
    "    for i, data in enumerate(train_loader):\n",
    "        inputs, labels = data  # Get inputs and labels\n",
    "        optimizer.zero_grad()  # Zero the parameter gradients\n",
    "        outputs = model(inputs)  # Forward pass\n",
    "        loss = criterion(outputs, labels)  # Compute the loss\n",
    "\n",
    "        # Backward pass and optimize\n",
    "        loss.backward()\n",
    "        optimizer.step()\n",
    "\n",
    "        # Compute accuracy\n",
    "        _, preds = torch.max(outputs, 1)\n",
    "        acc = torch.sum(preds == labels).item() / batch_size\n",
    "\n",
    "        # Print statistics\n",
    "        running_loss += loss.item()\n",
    "        running_acc += acc\n",
    "\n",
    "        if i % 200 == 199:\n",
    "            print('[%d, %5d] loss: %.3f acc: %.3f' %\n",
    "                  (epoch + 1, i + 1, running_loss / 200, running_acc / 200))\n",
    "            running_loss = 0.0\n",
    "            running_acc = 0.0\n",
    "\n",
    "    # Validation loop (similar structure as training loop)\n",
    "    with torch.no_grad():\n",
    "        for data in val_loader:\n",
    "            inputs, labels = data\n",
    "            outputs = model(inputs)\n",
    "            loss = criterion(outputs, labels)\n",
    "\n",
    "            _, preds = torch.max(outputs, 1)\n",
    "            acc = torch.sum(preds == labels).item() / batch_size\n",
    "\n",
    "            val_loss += loss.item()\n",
    "            val_acc += acc\n",
    "\n",
    "        print('Epoch [%d] Validation loss: %.3f acc: %.3f' %\n",
    "              (epoch + 1, val_loss / len(val_loader), val_acc / len(val_loader)))\n",
    "        val_loss = 0.0\n",
    "        val_acc = 0.0\n",
    "\n",
    "print('Finished Training')"
   ]
  },
  {
   "cell_type": "code",
   "execution_count": 11,
   "id": "0874e4d2",
   "metadata": {
    "colab": {
     "base_uri": "https://localhost:8080/"
    },
    "id": "0874e4d2",
    "outputId": "b2992c63-a84d-4ce4-ad58-72fa55a54fad"
   },
   "outputs": [
    {
     "name": "stdout",
     "output_type": "stream",
     "text": [
      "Accuracy on the test set: 85.15%\n"
     ]
    }
   ],
   "source": [
    "# Evaluate the model on the testing set\n",
    "correct = 0\n",
    "total = 0\n",
    "\n",
    "# Loop over the testing batches\n",
    "with torch.no_grad():\n",
    "    for data in test_loader:\n",
    "\n",
    "        # Get the inputs and the labels\n",
    "        inputs, labels = data\n",
    "\n",
    "        # Forward pass\n",
    "        outputs = model(inputs)\n",
    "\n",
    "        # Get the predicted labels by taking the argmax of the outputs\n",
    "        _, predicted = torch.max(outputs.data, 1)\n",
    "\n",
    "        # Update the total and correct counts\n",
    "        total += labels.size(0)\n",
    "        correct += (predicted == labels).sum().item()\n",
    "\n",
    "# Calculate the accuracy\n",
    "accuracy = 100 * correct / total\n",
    "\n",
    "# Print the accuracy\n",
    "print('Accuracy on the test set: {:.2f}%'.format(accuracy))"
   ]
  },
  {
   "cell_type": "markdown",
   "id": "XJJpsphC2uw2",
   "metadata": {
    "id": "XJJpsphC2uw2"
   },
   "source": [
    "State of the Art Models"
   ]
  },
  {
   "cell_type": "code",
   "execution_count": 12,
   "id": "x3_XPRjc8Awc",
   "metadata": {
    "colab": {
     "base_uri": "https://localhost:8080/"
    },
    "id": "x3_XPRjc8Awc",
    "outputId": "569aef12-041e-4d6e-c5d0-15c9795d0465"
   },
   "outputs": [
    {
     "data": {
      "text/plain": [
       "device(type='cuda', index=0)"
      ]
     },
     "execution_count": 12,
     "metadata": {},
     "output_type": "execute_result"
    }
   ],
   "source": [
    "import torchvision.models as models\n",
    "device = torch.device(\"cuda:0\" if torch.cuda.is_available() else \"cpu\")\n",
    "device"
   ]
  },
  {
   "cell_type": "code",
   "execution_count": 13,
   "id": "yzgHgJO24Iya",
   "metadata": {
    "id": "yzgHgJO24Iya"
   },
   "outputs": [],
   "source": [
    "batch_size = 64\n",
    "num_epochs = 5\n",
    "learning_rate = 0.01\n",
    "transform = transforms.Compose([transforms.Grayscale(num_output_channels=3),transforms.Resize((224, 224)),\n",
    "                                transforms.ToTensor(),transforms.Normalize((0.5, 0.5, 0.5), (0.5, 0.5, 0.5))])\n",
    "data = datasets.FashionMNIST(root='./data', train=True, transform=transform, download=True)\n",
    "\n",
    "#splitting dataset\n",
    "train_size = int(0.8 * len(data))\n",
    "val_size = len(data) - train_size\n",
    "train_dataset, val_dataset = random_split(data, [train_size, val_size])\n",
    "test_dataset = datasets.FashionMNIST(root='./data', train=False, transform=transform, download=True)\n",
    "\n",
    "#Dataloaders\n",
    "train_loader = DataLoader(train_dataset, batch_size=batch_size, shuffle=True)\n",
    "val_loader = DataLoader(val_dataset, batch_size=batch_size, shuffle=False)\n",
    "test_loader = DataLoader(test_dataset, batch_size=batch_size, shuffle=False)\n",
    "labels=(\"T-shirt/top\",\"Trouser\",\"Pullover\",\"Dress\",\"Coat\",\"Sandal\",\"Shirt\",\"Sneaker\",\"Bag\",\"Ankle boot\")"
   ]
  },
  {
   "cell_type": "markdown",
   "id": "6vLse8D5O7A3",
   "metadata": {
    "id": "6vLse8D5O7A3"
   },
   "source": [
    "MobileNetV3"
   ]
  },
  {
   "cell_type": "code",
   "execution_count": 14,
   "id": "WDY72Rg82087",
   "metadata": {
    "colab": {
     "base_uri": "https://localhost:8080/"
    },
    "id": "WDY72Rg82087",
    "outputId": "41f53b7a-db6f-4e89-8781-ca5518114337"
   },
   "outputs": [
    {
     "name": "stderr",
     "output_type": "stream",
     "text": [
      "/usr/local/lib/python3.10/dist-packages/torchvision/models/_utils.py:208: UserWarning: The parameter 'pretrained' is deprecated since 0.13 and may be removed in the future, please use 'weights' instead.\n",
      "  warnings.warn(\n",
      "/usr/local/lib/python3.10/dist-packages/torchvision/models/_utils.py:223: UserWarning: Arguments other than a weight enum or `None` for 'weights' are deprecated since 0.13 and may be removed in the future. The current behavior is equivalent to passing `weights=MobileNet_V3_Small_Weights.IMAGENET1K_V1`. You can also use `weights=MobileNet_V3_Small_Weights.DEFAULT` to get the most up-to-date weights.\n",
      "  warnings.warn(msg)\n",
      "Downloading: \"https://download.pytorch.org/models/mobilenet_v3_small-047dcff4.pth\" to /root/.cache/torch/hub/checkpoints/mobilenet_v3_small-047dcff4.pth\n",
      "100%|██████████| 9.83M/9.83M [00:00<00:00, 49.4MB/s]\n"
     ]
    }
   ],
   "source": [
    "model=models.mobilenet_v3_small(pretrained=True)\n",
    "lastLayerFtrs=model.classifier[0].in_features\n",
    "model.fc=nn.Linear(lastLayerFtrs, 10)\n",
    "model=model.to(device)\n",
    "\n",
    "criterion=nn.CrossEntropyLoss()\n",
    "optimizer=optim.Adam(model.parameters(), lr=learning_rate)"
   ]
  },
  {
   "cell_type": "code",
   "execution_count": 15,
   "id": "XRT9uQj53hZ-",
   "metadata": {
    "colab": {
     "base_uri": "https://localhost:8080/"
    },
    "id": "XRT9uQj53hZ-",
    "outputId": "30d50702-6afd-4fcb-97a5-de90338d1999"
   },
   "outputs": [
    {
     "name": "stdout",
     "output_type": "stream",
     "text": [
      "Epoch: 1 Loss: 0.5617301027278105\n",
      "Epoch: 2 Loss: 0.318938423504432\n",
      "Epoch: 3 Loss: 0.2954777308156093\n",
      "Epoch: 4 Loss: 0.27251185322801275\n",
      "Epoch: 5 Loss: 0.2540986368159453\n",
      "Accuracy: 88.46 %\n"
     ]
    }
   ],
   "source": [
    "for epoch in range(num_epochs):\n",
    "    model.train()\n",
    "    running_loss = 0.0\n",
    "    for i, data in enumerate(train_loader):\n",
    "        inputs, labels = data\n",
    "        inputs, labels = inputs.to(device), labels.to(device)\n",
    "        optimizer.zero_grad()\n",
    "        outputs = model(inputs)\n",
    "        loss = criterion(outputs, labels)\n",
    "        loss.backward()\n",
    "        optimizer.step()\n",
    "        running_loss += loss.item()\n",
    "\n",
    "    print(\"Epoch:\",epoch+1, \"Loss:\",running_loss/len(train_loader))\n",
    "\n",
    "model.eval()\n",
    "correct=0\n",
    "total=0\n",
    "with torch.no_grad():\n",
    "    for inputs, labels in test_loader:\n",
    "        inputs, labels = inputs.to(device), labels.to(device)\n",
    "        outputs = model(inputs)\n",
    "        _, predicted = torch.max(outputs.data, 1)\n",
    "        total += labels.size(0)\n",
    "        correct += (predicted == labels).sum().item()\n",
    "\n",
    "print(\"Accuracy:\",100 * correct / total,\"%\")"
   ]
  },
  {
   "cell_type": "markdown",
   "id": "wxhF0oNIPBjs",
   "metadata": {
    "id": "wxhF0oNIPBjs"
   },
   "source": [
    "ShuffleNetV2"
   ]
  },
  {
   "cell_type": "code",
   "execution_count": 16,
   "id": "CbRKAmTd0dX9",
   "metadata": {
    "colab": {
     "base_uri": "https://localhost:8080/"
    },
    "id": "CbRKAmTd0dX9",
    "outputId": "4615f118-b099-46f0-8401-352a83ee7650"
   },
   "outputs": [
    {
     "name": "stderr",
     "output_type": "stream",
     "text": [
      "/usr/local/lib/python3.10/dist-packages/torchvision/models/_utils.py:208: UserWarning: The parameter 'pretrained' is deprecated since 0.13 and may be removed in the future, please use 'weights' instead.\n",
      "  warnings.warn(\n",
      "/usr/local/lib/python3.10/dist-packages/torchvision/models/_utils.py:223: UserWarning: Arguments other than a weight enum or `None` for 'weights' are deprecated since 0.13 and may be removed in the future. The current behavior is equivalent to passing `weights=ShuffleNet_V2_X2_0_Weights.IMAGENET1K_V1`. You can also use `weights=ShuffleNet_V2_X2_0_Weights.DEFAULT` to get the most up-to-date weights.\n",
      "  warnings.warn(msg)\n",
      "Downloading: \"https://download.pytorch.org/models/shufflenetv2_x2_0-8be3c8ee.pth\" to /root/.cache/torch/hub/checkpoints/shufflenetv2_x2_0-8be3c8ee.pth\n",
      "100%|██████████| 28.4M/28.4M [00:00<00:00, 77.0MB/s]\n"
     ]
    }
   ],
   "source": [
    "model = models.shufflenet_v2_x2_0(pretrained=True)\n",
    "lastLayerFtr = model.fc.in_features\n",
    "model.fc = nn.Linear(lastLayerFtr, 10)\n",
    "model = model.to(device)\n",
    "\n",
    "criterion = nn.CrossEntropyLoss()\n",
    "optimizer = optim.Adam(model.parameters(), lr=learning_rate)"
   ]
  },
  {
   "cell_type": "code",
   "execution_count": 17,
   "id": "ph_Wj_zs0rjr",
   "metadata": {
    "colab": {
     "base_uri": "https://localhost:8080/"
    },
    "id": "ph_Wj_zs0rjr",
    "outputId": "61d95a22-c2b8-4d0d-ca8b-069113c706fb"
   },
   "outputs": [
    {
     "name": "stdout",
     "output_type": "stream",
     "text": [
      "Epoch: 1 Loss: 0.4992402017116547\n",
      "Epoch: 2 Loss: 0.28823752696812155\n",
      "Epoch: 3 Loss: 0.2507557063748439\n",
      "Epoch: 4 Loss: 0.2247825993100802\n",
      "Epoch: 5 Loss: 0.2052414425164461\n",
      "Accuracy: 89.03 %\n"
     ]
    }
   ],
   "source": [
    "for epoch in range(num_epochs):\n",
    "    model.train()\n",
    "    running_loss = 0.0\n",
    "    for i, data in enumerate(train_loader):\n",
    "        inputs, labels = data\n",
    "        inputs, labels = inputs.to(device), labels.to(device)\n",
    "        optimizer.zero_grad()\n",
    "        outputs = model(inputs)\n",
    "        loss = criterion(outputs, labels)\n",
    "        loss.backward()\n",
    "        optimizer.step()\n",
    "        running_loss += loss.item()\n",
    "    print(\"Epoch:\",epoch+1, \"Loss:\",running_loss/len(train_loader))\n",
    "\n",
    "model.eval()\n",
    "correct = 0\n",
    "total = 0\n",
    "with torch.no_grad():\n",
    "    for inputs, labels in test_loader:\n",
    "        inputs, labels = inputs.to(device), labels.to(device)\n",
    "        outputs = model(inputs)\n",
    "        _, predicted = torch.max(outputs.data, 1)\n",
    "        total += labels.size(0)\n",
    "        correct += (predicted == labels).sum().item()\n",
    "print(\"Accuracy:\",100*correct/total,\"%\")"
   ]
  }
 ],
 "metadata": {
  "accelerator": "GPU",
  "colab": {
   "provenance": []
  },
  "kernelspec": {
   "display_name": "Python 3 (ipykernel)",
   "language": "python",
   "name": "python3"
  },
  "language_info": {
   "codemirror_mode": {
    "name": "ipython",
    "version": 3
   },
   "file_extension": ".py",
   "mimetype": "text/x-python",
   "name": "python",
   "nbconvert_exporter": "python",
   "pygments_lexer": "ipython3",
   "version": "3.9.12"
  }
 },
 "nbformat": 4,
 "nbformat_minor": 5
}
